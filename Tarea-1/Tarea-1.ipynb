{
 "cells": [
  {
   "cell_type": "markdown",
   "id": "10cb80ce-1a8b-4b27-bdda-09202a37b87b",
   "metadata": {},
   "source": [
    "Tarea 1 \n",
    "\n",
    "Integrantes\n",
    "\n",
    "Javier Vega \n",
    "Erick Calvo\n"
   ]
  },
  {
   "cell_type": "markdown",
   "id": "0b8d7493-c340-438c-b427-8ac76a5d41fb",
   "metadata": {},
   "source": [
    "1.Primer estandarizar usando la libreria "
   ]
  },
  {
   "cell_type": "code",
   "execution_count": 7,
   "id": "7b22aea1-ee5f-4e0c-ac27-abf6fec37c0b",
   "metadata": {},
   "outputs": [
    {
     "name": "stdout",
     "output_type": "stream",
     "text": [
      "            Date  Temp\n",
      "0     1981-01-01  20.7\n",
      "1     1981-01-02  17.9\n",
      "2     1981-01-03  18.8\n",
      "3     1981-01-04  14.6\n",
      "4     1981-01-05  15.8\n",
      "...          ...   ...\n",
      "3645  1990-12-27  14.0\n",
      "3646  1990-12-28  13.6\n",
      "3647  1990-12-29  13.5\n",
      "3648  1990-12-30  15.7\n",
      "3649  1990-12-31  13.0\n",
      "\n",
      "[3650 rows x 2 columns]\n",
      "Index(['Date', 'Temp'], dtype='object')\n",
      "[[20.7]\n",
      " [17.9]\n",
      " [18.8]\n",
      " ...\n",
      " [13.5]\n",
      " [15.7]\n",
      " [13. ]]\n"
     ]
    }
   ],
   "source": [
    "\n",
    "#importar todas las librerias requeridas\n",
    "import pandas as pd\n",
    "import numpy as np\n",
    "from sklearn.preprocessing import StandardScaler, MinMaxScaler\n",
    "import torch \n",
    "\n",
    "import os\n",
    "os.environ[\"KMP_DUPLICATE_LIB_OK\"]=\"TRUE\"\n",
    "\n",
    "#cargar los datos \n",
    "path = \"daily-min-temperatures.txt\"\n",
    "\n",
    "datos_df = pd.read_csv(path, delimiter=',')\n",
    "\n",
    "#verificar los datos cargados\n",
    "print(datos_df)\n",
    "\n",
    "print(datos_df.columns)\n",
    "\n",
    "#selecionar datos a estadarizar-normalizar\n",
    "np_datos = np.array(datos_df.iloc[:,-1:])\n",
    "print(np_datos)"
   ]
  },
  {
   "cell_type": "code",
   "execution_count": 10,
   "id": "d035ef03",
   "metadata": {},
   "outputs": [
    {
     "name": "stdout",
     "output_type": "stream",
     "text": [
      "[[2.33888328]\n",
      " [1.65113873]\n",
      " [1.87219948]\n",
      " ...\n",
      " [0.5703973 ]\n",
      " [1.11076801]\n",
      " [0.44758577]]\n"
     ]
    }
   ],
   "source": [
    "#Estandarización Automática\n",
    "\n",
    "scaler = StandardScaler()\n",
    "scaler.fit(np_datos)\n",
    "\n",
    "datos_estandarizados = scaler.transform(np_datos)\n",
    "\n",
    "print(datos_estandarizados)"
   ]
  },
  {
   "cell_type": "code",
   "execution_count": 11,
   "id": "97c4f36a",
   "metadata": {},
   "outputs": [
    {
     "name": "stdout",
     "output_type": "stream",
     "text": [
      "[[0.78707224]\n",
      " [0.68060837]\n",
      " [0.7148289 ]\n",
      " ...\n",
      " [0.51330798]\n",
      " [0.59695817]\n",
      " [0.49429658]]\n"
     ]
    }
   ],
   "source": [
    "#Normalización Automática\n",
    "\n",
    "scaler = MinMaxScaler()\n",
    "scaler.fit(np_datos)\n",
    "\n",
    "datos_normalizados = scaler.transform(np_datos)\n",
    "\n",
    "print(datos_normalizados)"
   ]
  },
  {
   "cell_type": "code",
   "execution_count": 6,
   "id": "b6193948-c2a5-4972-9b85-18dbdbf292c1",
   "metadata": {},
   "outputs": [
    {
     "name": "stdout",
     "output_type": "stream",
     "text": [
      "[[2.33856287]\n",
      " [1.65091253]\n",
      " [1.871943  ]\n",
      " ...\n",
      " [0.57031915]\n",
      " [1.11061584]\n",
      " [0.44752445]]\n"
     ]
    }
   ],
   "source": [
    "#Estandarización manual:\n",
    "\n",
    "estandarización_manual = (np_datos - np_datos.mean()) / np_datos.std(ddof=1)\n",
    "\n",
    "print(estandarización_manual)"
   ]
  },
  {
   "cell_type": "code",
   "execution_count": 12,
   "id": "bbfe9843",
   "metadata": {},
   "outputs": [
    {
     "name": "stdout",
     "output_type": "stream",
     "text": [
      "[[0.78707224]\n",
      " [0.68060837]\n",
      " [0.7148289 ]\n",
      " ...\n",
      " [0.51330798]\n",
      " [0.59695817]\n",
      " [0.49429658]]\n"
     ]
    }
   ],
   "source": [
    "#Normalización manual:\n",
    "\n",
    "normalización_manual = (np_datos - np_datos.min()) / (np_datos.max() - np_datos.min())\n",
    "\n",
    "print(normalización_manual)"
   ]
  },
  {
   "cell_type": "code",
   "execution_count": null,
   "id": "7234a135",
   "metadata": {},
   "outputs": [],
   "source": []
  }
 ],
 "metadata": {
  "kernelspec": {
   "display_name": "Python 3",
   "language": "python",
   "name": "python3"
  },
  "language_info": {
   "codemirror_mode": {
    "name": "ipython",
    "version": 3
   },
   "file_extension": ".py",
   "mimetype": "text/x-python",
   "name": "python",
   "nbconvert_exporter": "python",
   "pygments_lexer": "ipython3",
   "version": "3.8.8"
  }
 },
 "nbformat": 4,
 "nbformat_minor": 5
}
